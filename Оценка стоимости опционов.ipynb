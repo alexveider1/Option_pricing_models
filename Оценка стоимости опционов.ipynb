{
 "cells": [
  {
   "cell_type": "markdown",
   "metadata": {
    "id": "0u0qJPcqHadS"
   },
   "source": [
    "# Необходимые библиотеки и настройки"
   ]
  },
  {
   "cell_type": "code",
   "execution_count": 3,
   "metadata": {
    "executionInfo": {
     "elapsed": 7,
     "status": "ok",
     "timestamp": 1737702994697,
     "user": {
      "displayName": "Алексей Карасев",
      "userId": "08288589323934321875"
     },
     "user_tz": -180
    },
    "id": "lZmXrRTTKsEv"
   },
   "outputs": [],
   "source": [
    "# ! pip install scipy\n",
    "# ! pip install numpy\n",
    "# ! pip install matplotlib"
   ]
  },
  {
   "cell_type": "code",
   "execution_count": 4,
   "metadata": {
    "executionInfo": {
     "elapsed": 6,
     "status": "ok",
     "timestamp": 1737702994697,
     "user": {
      "displayName": "Алексей Карасев",
      "userId": "08288589323934321875"
     },
     "user_tz": -180
    },
    "id": "AVwRrRD1HadU"
   },
   "outputs": [],
   "source": [
    "from scipy import stats\n",
    "import scipy\n",
    "import numpy as np\n",
    "import matplotlib.pyplot as plt\n",
    "import matplotlib_inline\n",
    "\n",
    "matplotlib_inline.backend_inline.set_matplotlib_formats('svg')"
   ]
  },
  {
   "cell_type": "markdown",
   "metadata": {
    "id": "NmCoNHNuHadV"
   },
   "source": [
    "# Функции для расчета стоимости опционов по разным моделям"
   ]
  },
  {
   "cell_type": "code",
   "execution_count": 5,
   "metadata": {
    "executionInfo": {
     "elapsed": 6,
     "status": "ok",
     "timestamp": 1737702994697,
     "user": {
      "displayName": "Алексей Карасев",
      "userId": "08288589323934321875"
     },
     "user_tz": -180
    },
    "id": "IVZfQqsEHadV"
   },
   "outputs": [],
   "source": [
    "def black_scholes(S, X, t, r, sigma, option_type='call'):\n",
    "    \"\"\" Рассчитывает стоимость опциона по модели Блэка-Шоулза на действительных числах \"\"\"\n",
    "    d1 = (np.log(S / X) + (r + 0.5 * sigma ** 2) * t) / \\\n",
    "        (sigma * np.sqrt(t))\n",
    "    d2 = d1 - sigma * np.sqrt(t)\n",
    "    if option_type == 'call':\n",
    "        price = S * stats.norm.cdf(d1) - X * \\\n",
    "            np.exp(-r * t) * stats.norm.cdf(d2)\n",
    "    elif option_type == 'put':\n",
    "        pass\n",
    "    return price"
   ]
  },
  {
   "cell_type": "code",
   "execution_count": 6,
   "metadata": {
    "executionInfo": {
     "elapsed": 6,
     "status": "ok",
     "timestamp": 1737702994697,
     "user": {
      "displayName": "Алексей Карасев",
      "userId": "08288589323934321875"
     },
     "user_tz": -180
    },
    "id": "xZMZLBRPHadV"
   },
   "outputs": [],
   "source": [
    "def black_scholes_fuzzy(S, X, t, r, sigma, option_type='call'):\n",
    "    \"\"\" Рассчитывает стоимость опциона по модели Блэка-Шоулза на нечетких числах \"\"\"\n",
    "    S = np.array(S)\n",
    "    r = np.array(r)\n",
    "    sigma = np.array(sigma)\n",
    "    d1 = (np.log(S/X) + (r+0.5*sigma ** 2)*t) / (sigma * np.sqrt(t))\n",
    "    d2 = d1-sigma*np.sqrt(t)\n",
    "    if option_type == 'call':\n",
    "        price = S * stats.norm.cdf(d1) - X * \\\n",
    "            np.exp(-r * t) * stats.norm.cdf(d2)\n",
    "    elif option_type == 'put':\n",
    "      pass\n",
    "    return price"
   ]
  },
  {
   "cell_type": "code",
   "execution_count": 7,
   "metadata": {
    "executionInfo": {
     "elapsed": 6,
     "status": "ok",
     "timestamp": 1737702994697,
     "user": {
      "displayName": "Алексей Карасев",
      "userId": "08288589323934321875"
     },
     "user_tz": -180
    },
    "id": "Wms9s4a8HadV"
   },
   "outputs": [],
   "source": [
    "def binomial_model(S, X, t, r, sigma, N, option_type='call'):\n",
    "    \"\"\" Рассчитывает стоимость опциона по биномиальной модели на действительных числах \"\"\"\n",
    "    dt = t / N\n",
    "    u = np.exp(sigma * np.sqrt(dt))\n",
    "    d = 1 / u\n",
    "    p = (np.exp(r * dt) - d) / (u - d)\n",
    "    stock_price = np.zeros((N + 1, N + 1))\n",
    "    for i in range(N + 1):\n",
    "        for j in range(i + 1):\n",
    "            stock_price[j, i] = S * (u ** (i - j)) * (d ** j)\n",
    "    option_price = np.zeros((N + 1, N + 1))\n",
    "    if option_type == 'call':\n",
    "        option_price[:, N] = np.maximum(stock_price[:, N] - X, 0)\n",
    "        for i in range(N - 1, -1, -1):\n",
    "            for j in range(i + 1):\n",
    "                option_price[j, i] = (p * option_price[j, i + 1] + (1 - p)\n",
    "                                      * option_price[j + 1, i + 1]) * np.exp(-r * dt)\n",
    "    elif option_type == 'put':\n",
    "      pass\n",
    "    return option_price[0, 0]"
   ]
  },
  {
   "cell_type": "code",
   "execution_count": 8,
   "metadata": {
    "executionInfo": {
     "elapsed": 6,
     "status": "ok",
     "timestamp": 1737702994697,
     "user": {
      "displayName": "Алексей Карасев",
      "userId": "08288589323934321875"
     },
     "user_tz": -180
    },
    "id": "3OWp_NrMHadV"
   },
   "outputs": [],
   "source": [
    "def binomial_model_fuzzy(S, X, t, r, sigma, N, option_type='call'):\n",
    "    \"\"\" Рассчитывает стоимость опциона по биномиальной модели на нечетких числах \"\"\"\n",
    "    S = np.array(S)\n",
    "    r = np.array(r)\n",
    "    sigma = np.array(sigma)\n",
    "    dt = t/N\n",
    "    u = np.exp(sigma * np.sqrt(dt))\n",
    "    d = 1/(u[::-1])\n",
    "    p = ((np.exp(r * dt) - d) / (u - d))[::-1]\n",
    "    stock_price = np.zeros((N + 1, N + 1, 3))\n",
    "    for i in range(N + 1):\n",
    "        for j in range(i + 1):\n",
    "            stock_price[j, i, :] = S * (u ** (i - j)) * (d ** j)\n",
    "    option_price = np.zeros((N + 1, N + 1, 3))\n",
    "    option_price[:, N, :] = np.maximum(stock_price[:, N, :] - X, 0)\n",
    "    for i in range(N - 1, -1, -1):\n",
    "        for j in range(i + 1):\n",
    "            option_price[j, i, :] = (p * option_price[j, i + 1] + (\n",
    "                1 - p) * option_price[j + 1, i + 1]) * np.exp(-r * dt)\n",
    "    return option_price[0, 0]"
   ]
  },
  {
   "cell_type": "markdown",
   "metadata": {
    "id": "23o60e2mHadW"
   },
   "source": [
    "# Тестовые параметры для моделей"
   ]
  },
  {
   "cell_type": "code",
   "execution_count": 11,
   "metadata": {
    "executionInfo": {
     "elapsed": 5,
     "status": "ok",
     "timestamp": 1737702994697,
     "user": {
      "displayName": "Алексей Карасев",
      "userId": "08288589323934321875"
     },
     "user_tz": -180
    },
    "id": "JOXBddtwHadW"
   },
   "outputs": [],
   "source": [
    "# цена акции, страйк, время до истечения срока действия опциона, безрисковая ставка процента, волатильность базисного актива, число шагов (только для биномиальной модели)\n",
    "black_scholes_args = [10, 10, 3, 0.1, 0.2]\n",
    "black_scholes_fuzzy_args = [(9, 10, 11), 10, 3, (0.05, 0.1, 0.15), (0.1, 0.2, 0.3)]\n",
    "binomial_args = [10, 10, 3, 0.1, 0.2, 10]\n",
    "binomial_fuzzy_args = [(9, 10, 11), 10, 3, (0.05, 0.1, 0.15), (0.1, 0.2, 0.3), 5]"
   ]
  },
  {
   "cell_type": "markdown",
   "metadata": {
    "id": "C4C4BUgkHadW"
   },
   "source": [
    "# Пример использования функций для расчетов стоимости опционов"
   ]
  },
  {
   "cell_type": "code",
   "execution_count": 12,
   "metadata": {
    "colab": {
     "base_uri": "https://localhost:8080/"
    },
    "executionInfo": {
     "elapsed": 5,
     "status": "ok",
     "timestamp": 1737702994697,
     "user": {
      "displayName": "Алексей Карасев",
      "userId": "08288589323934321875"
     },
     "user_tz": -180
    },
    "id": "ddvmeyAtHadW",
    "outputId": "4544ebe0-88f2-4389-847c-dd5f2cdbb599"
   },
   "outputs": [
    {
     "data": {
      "text/plain": [
       "2.907490770915932"
      ]
     },
     "execution_count": 12,
     "metadata": {},
     "output_type": "execute_result"
    }
   ],
   "source": [
    "black_scholes(*black_scholes_args)"
   ]
  },
  {
   "cell_type": "code",
   "execution_count": 13,
   "metadata": {
    "colab": {
     "base_uri": "https://localhost:8080/"
    },
    "executionInfo": {
     "elapsed": 4,
     "status": "ok",
     "timestamp": 1737702994697,
     "user": {
      "displayName": "Алексей Карасев",
      "userId": "08288589323934321875"
     },
     "user_tz": -180
    },
    "id": "gEsccgO8HadW",
    "outputId": "e1f845f2-b8bf-412d-e58c-b23beed8a6ec"
   },
   "outputs": [
    {
     "data": {
      "text/plain": [
       "array([0.82402741, 2.90749077, 4.94632037])"
      ]
     },
     "execution_count": 13,
     "metadata": {},
     "output_type": "execute_result"
    }
   ],
   "source": [
    "black_scholes_fuzzy(*black_scholes_fuzzy_args)"
   ]
  },
  {
   "cell_type": "code",
   "execution_count": 14,
   "metadata": {
    "colab": {
     "base_uri": "https://localhost:8080/"
    },
    "executionInfo": {
     "elapsed": 3,
     "status": "ok",
     "timestamp": 1737702994697,
     "user": {
      "displayName": "Алексей Карасев",
      "userId": "08288589323934321875"
     },
     "user_tz": -180
    },
    "id": "r4ItWBbsHadX",
    "outputId": "14b316d9-b834-43a3-9083-19a940afe822"
   },
   "outputs": [
    {
     "data": {
      "text/plain": [
       "2.872615808787606"
      ]
     },
     "execution_count": 14,
     "metadata": {},
     "output_type": "execute_result"
    }
   ],
   "source": [
    "binomial_model(*binomial_args)"
   ]
  },
  {
   "cell_type": "code",
   "execution_count": 15,
   "metadata": {
    "colab": {
     "base_uri": "https://localhost:8080/"
    },
    "executionInfo": {
     "elapsed": 3,
     "status": "ok",
     "timestamp": 1737702994697,
     "user": {
      "displayName": "Алексей Карасев",
      "userId": "08288589323934321875"
     },
     "user_tz": -180
    },
    "id": "O8IMXDmLHadX",
    "outputId": "a4da1b8d-bd70-4baa-944e-44f2c0fc0625"
   },
   "outputs": [
    {
     "data": {
      "text/plain": [
       "array([ 0.08929216,  2.91309905, 11.3049992 ])"
      ]
     },
     "execution_count": 15,
     "metadata": {},
     "output_type": "execute_result"
    }
   ],
   "source": [
    "binomial_model_fuzzy(*binomial_fuzzy_args)"
   ]
  },
  {
   "cell_type": "code",
   "execution_count": 15,
   "metadata": {
    "executionInfo": {
     "elapsed": 2,
     "status": "ok",
     "timestamp": 1737702994697,
     "user": {
      "displayName": "Алексей Карасев",
      "userId": "08288589323934321875"
     },
     "user_tz": -180
    },
    "id": "Le4fgbY1HadX"
   },
   "outputs": [],
   "source": []
  }
 ],
 "metadata": {
  "colab": {
   "provenance": []
  },
  "kernelspec": {
   "display_name": "Python 3",
   "language": "python",
   "name": "python3"
  },
  "language_info": {
   "codemirror_mode": {
    "name": "ipython",
    "version": 3
   },
   "file_extension": ".py",
   "mimetype": "text/x-python",
   "name": "python",
   "nbconvert_exporter": "python",
   "pygments_lexer": "ipython3",
   "version": "3.13.0"
  }
 },
 "nbformat": 4,
 "nbformat_minor": 0
}
